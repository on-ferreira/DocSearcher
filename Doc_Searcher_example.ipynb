{
 "cells": [
  {
   "cell_type": "code",
   "execution_count": 1,
   "metadata": {
    "id": "hF46sMG7ld7Q"
   },
   "outputs": [],
   "source": [
    "import numpy as np\n",
    "import pandas as pd\n",
    "import google.generativeai as genai\n",
    "from docx2python import docx2python\n",
    "import os\n",
    "from sklearn.metrics.pairwise import cosine_similarity\n",
    "\n",
    "GOOGLE_API_KEY=\"YOUR API GOES HERE\"\n",
    "genai.configure(api_key=GOOGLE_API_KEY)\n",
    "model = \"models/embedding-001\""
   ]
  },
  {
   "cell_type": "markdown",
   "metadata": {
    "id": "Vv6ssrxnM7Wx"
   },
   "source": [
    "Para utilizar a função abaixo e extrair o conteúdo de documentos .docx de um diretório específico, basta fornecer o caminho para esse diretório como argumento da função."
   ]
  },
  {
   "cell_type": "code",
   "execution_count": 2,
   "metadata": {
    "id": "xy8XyShdsrRX"
   },
   "outputs": [],
   "source": [
    "def extract_docx_contents(docs_path):\n",
    "    \"\"\"\n",
    "    Extracts the content of .docx documents from a specific directory.\n",
    "\n",
    "    Args:\n",
    "        docs_path (str): The path to the directory containing the .docx documents.\n",
    "\n",
    "    Returns:\n",
    "        list: A list of dictionaries, where each dictionary contains the title and content of a document.\n",
    "\n",
    "    Example:\n",
    "        >>> docs_path = \"/path/to/your/docs\"\n",
    "        >>> documents = extract_docx_contents(docs_path)\n",
    "    \"\"\"\n",
    "\n",
    "    documents = []\n",
    "\n",
    "    for doc in os.listdir(docs_path):\n",
    "        if doc.endswith(\".docx\"):\n",
    "            path_file = os.path.join(docs_path, doc)\n",
    "            doc_title = os.path.splitext(doc)[0]\n",
    "            docx_content = docx2python(path_file)\n",
    "           \n",
    "            if docx_content.body and len(docx_content.body) > 1:\n",
    "                text = ''.join([''.join(subsublist) for sublist in docx_content.body[1] for subsublist in sublist])\n",
    "            elif docx_content.body:\n",
    "                text = docx_content.text\n",
    "\n",
    "            document = {\n",
    "                    \"Title\": doc_title,\n",
    "                    \"Content\": text\n",
    "                }\n",
    "            documents.append(document)\n",
    "            \n",
    "\n",
    "    return documents\n"
   ]
  },
  {
   "cell_type": "markdown",
   "metadata": {
    "id": "jDo-BBkyNJxw"
   },
   "source": [
    "O seguinte bloco de código realiza a pré-processamento dos dados extraídos dos documentos .docx. Isso inclui a formatação dos títulos e conteúdos dos documentos para melhor organização e análise.\n"
   ]
  },
  {
   "cell_type": "code",
   "execution_count": 3,
   "metadata": {
    "colab": {
     "base_uri": "https://localhost:8080/",
     "height": 520
    },
    "id": "NoiJ5YPRs_3g",
    "outputId": "3d29b3ef-bff9-4ece-90dd-ad2e94105dc7"
   },
   "outputs": [
    {
     "data": {
      "text/html": [
       "<div>\n",
       "<style scoped>\n",
       "    .dataframe tbody tr th:only-of-type {\n",
       "        vertical-align: middle;\n",
       "    }\n",
       "\n",
       "    .dataframe tbody tr th {\n",
       "        vertical-align: top;\n",
       "    }\n",
       "\n",
       "    .dataframe thead th {\n",
       "        text-align: right;\n",
       "    }\n",
       "</style>\n",
       "<table border=\"1\" class=\"dataframe\">\n",
       "  <thead>\n",
       "    <tr style=\"text-align: right;\">\n",
       "      <th></th>\n",
       "      <th>Title</th>\n",
       "      <th>Content</th>\n",
       "    </tr>\n",
       "  </thead>\n",
       "  <tbody>\n",
       "    <tr>\n",
       "      <th>0</th>\n",
       "      <td>Basquetebol</td>\n",
       "      <td>O basquetebol ou bola ao cesto, popularmente c...</td>\n",
       "    </tr>\n",
       "    <tr>\n",
       "      <th>1</th>\n",
       "      <td>Brasil</td>\n",
       "      <td>Brasil (localmente [bɾaˈziw][b]), oficialmente...</td>\n",
       "    </tr>\n",
       "    <tr>\n",
       "      <th>2</th>\n",
       "      <td>Culinaria Japonesa</td>\n",
       "      <td>A culinária japonesa se desenvolveu ao longo d...</td>\n",
       "    </tr>\n",
       "    <tr>\n",
       "      <th>3</th>\n",
       "      <td>Culinaria</td>\n",
       "      <td>A culinária é a arte de cozinhar,[1] (ver: art...</td>\n",
       "    </tr>\n",
       "    <tr>\n",
       "      <th>4</th>\n",
       "      <td>F1</td>\n",
       "      <td>Fórmula 1 (também F1; em inglês: Formula One) ...</td>\n",
       "    </tr>\n",
       "    <tr>\n",
       "      <th>5</th>\n",
       "      <td>Futebol</td>\n",
       "      <td>O futebol,[4] também referido como futebol de ...</td>\n",
       "    </tr>\n",
       "    <tr>\n",
       "      <th>6</th>\n",
       "      <td>Japao</td>\n",
       "      <td>Coordenadas: 35° 9' 22\" N 136° 3' 36\" ECapital...</td>\n",
       "    </tr>\n",
       "  </tbody>\n",
       "</table>\n",
       "</div>"
      ],
      "text/plain": [
       "                Title                                            Content\n",
       "0         Basquetebol  O basquetebol ou bola ao cesto, popularmente c...\n",
       "1              Brasil  Brasil (localmente [bɾaˈziw][b]), oficialmente...\n",
       "2  Culinaria Japonesa  A culinária japonesa se desenvolveu ao longo d...\n",
       "3           Culinaria  A culinária é a arte de cozinhar,[1] (ver: art...\n",
       "4                  F1  Fórmula 1 (também F1; em inglês: Formula One) ...\n",
       "5             Futebol  O futebol,[4] também referido como futebol de ...\n",
       "6               Japao  Coordenadas: 35° 9' 22\" N 136° 3' 36\" ECapital..."
      ]
     },
     "execution_count": 3,
     "metadata": {},
     "output_type": "execute_result"
    }
   ],
   "source": [
    "docs_path = \"my_docs\"\n",
    "documents = extract_docx_contents(docs_path)\n",
    "df = pd.DataFrame(documents)\n",
    "df.columns = [\"Title\", \"Content\"]\n",
    "df[\"Content\"] = df[\"Content\"].str.replace(r\"\\t|\\n\", \"\", regex=True)\n",
    "df"
   ]
  },
  {
   "cell_type": "code",
   "execution_count": 4,
   "metadata": {
    "id": "Asp__XR0v3j5"
   },
   "outputs": [],
   "source": [
    "def embed_fn(title, text):\n",
    "  \"\"\"\n",
    "    Generates an embedding for the provided title and text using a specific model.\n",
    "\n",
    "    This function utilizes Google Generative AI to generate an embedding for the provided title and text.\n",
    "    The resulting embedding is useful for document retrieval tasks, where documents can be compared\n",
    "    based on the similarity of their embeddings.\n",
    "\n",
    "    Args:\n",
    "        title (str): The title of the document.\n",
    "        text (str): The text of the document.\n",
    "\n",
    "    Returns:\n",
    "        numpy.ndarray: The embedding generated for the provided title and text.\n",
    "\n",
    "    Example:\n",
    "        >>> title = \"Example Title\"\n",
    "        >>> text = \"This is an example text.\"\n",
    "        >>> embedding = embed_fn(title, text)\n",
    "    \"\"\"\n",
    "\n",
    "  return genai.embed_content(model=model,\n",
    "                                 content=text,\n",
    "                                 title=title,\n",
    "                                 task_type=\"RETRIEVAL_DOCUMENT\")[\"embedding\"]"
   ]
  },
  {
   "cell_type": "markdown",
   "metadata": {
    "id": "3AXFFP2zN_to"
   },
   "source": [
    "A linha abaixo utiliza a função `embed_fn` para gerar embeddings para o título e o conteúdo de cada documento presente no DataFrame `df`. Esses embeddings são armazenados na coluna \"Embeddings\" do DataFrame para posterior análise ou processamento.\n"
   ]
  },
  {
   "cell_type": "code",
   "execution_count": 5,
   "metadata": {
    "colab": {
     "base_uri": "https://localhost:8080/",
     "height": 520
    },
    "id": "7Wnn6e1swQfg",
    "outputId": "ca847372-66a2-4941-9767-bfc61af47436"
   },
   "outputs": [
    {
     "data": {
      "text/html": [
       "<div>\n",
       "<style scoped>\n",
       "    .dataframe tbody tr th:only-of-type {\n",
       "        vertical-align: middle;\n",
       "    }\n",
       "\n",
       "    .dataframe tbody tr th {\n",
       "        vertical-align: top;\n",
       "    }\n",
       "\n",
       "    .dataframe thead th {\n",
       "        text-align: right;\n",
       "    }\n",
       "</style>\n",
       "<table border=\"1\" class=\"dataframe\">\n",
       "  <thead>\n",
       "    <tr style=\"text-align: right;\">\n",
       "      <th></th>\n",
       "      <th>Title</th>\n",
       "      <th>Content</th>\n",
       "      <th>Embeddings</th>\n",
       "    </tr>\n",
       "  </thead>\n",
       "  <tbody>\n",
       "    <tr>\n",
       "      <th>0</th>\n",
       "      <td>Basquetebol</td>\n",
       "      <td>O basquetebol ou bola ao cesto, popularmente c...</td>\n",
       "      <td>[0.03007518, -0.024216983, -0.020793779, -0.00...</td>\n",
       "    </tr>\n",
       "    <tr>\n",
       "      <th>1</th>\n",
       "      <td>Brasil</td>\n",
       "      <td>Brasil (localmente [bɾaˈziw][b]), oficialmente...</td>\n",
       "      <td>[0.041011292, -0.014829685, -0.023700345, 0.06...</td>\n",
       "    </tr>\n",
       "    <tr>\n",
       "      <th>2</th>\n",
       "      <td>Culinaria Japonesa</td>\n",
       "      <td>A culinária japonesa se desenvolveu ao longo d...</td>\n",
       "      <td>[0.021962343, -0.034408245, -0.05993954, 0.034...</td>\n",
       "    </tr>\n",
       "    <tr>\n",
       "      <th>3</th>\n",
       "      <td>Culinaria</td>\n",
       "      <td>A culinária é a arte de cozinhar,[1] (ver: art...</td>\n",
       "      <td>[0.015466951, -0.034977786, -0.03548918, 0.027...</td>\n",
       "    </tr>\n",
       "    <tr>\n",
       "      <th>4</th>\n",
       "      <td>F1</td>\n",
       "      <td>Fórmula 1 (também F1; em inglês: Formula One) ...</td>\n",
       "      <td>[0.0017117915, -0.025918707, -0.0041319, -0.01...</td>\n",
       "    </tr>\n",
       "    <tr>\n",
       "      <th>5</th>\n",
       "      <td>Futebol</td>\n",
       "      <td>O futebol,[4] também referido como futebol de ...</td>\n",
       "      <td>[0.021318262, -0.022684429, -0.059795767, 0.01...</td>\n",
       "    </tr>\n",
       "    <tr>\n",
       "      <th>6</th>\n",
       "      <td>Japao</td>\n",
       "      <td>Coordenadas: 35° 9' 22\" N 136° 3' 36\" ECapital...</td>\n",
       "      <td>[0.035828836, -0.016120639, -0.030543817, 0.03...</td>\n",
       "    </tr>\n",
       "  </tbody>\n",
       "</table>\n",
       "</div>"
      ],
      "text/plain": [
       "                Title                                            Content  \\\n",
       "0         Basquetebol  O basquetebol ou bola ao cesto, popularmente c...   \n",
       "1              Brasil  Brasil (localmente [bɾaˈziw][b]), oficialmente...   \n",
       "2  Culinaria Japonesa  A culinária japonesa se desenvolveu ao longo d...   \n",
       "3           Culinaria  A culinária é a arte de cozinhar,[1] (ver: art...   \n",
       "4                  F1  Fórmula 1 (também F1; em inglês: Formula One) ...   \n",
       "5             Futebol  O futebol,[4] também referido como futebol de ...   \n",
       "6               Japao  Coordenadas: 35° 9' 22\" N 136° 3' 36\" ECapital...   \n",
       "\n",
       "                                          Embeddings  \n",
       "0  [0.03007518, -0.024216983, -0.020793779, -0.00...  \n",
       "1  [0.041011292, -0.014829685, -0.023700345, 0.06...  \n",
       "2  [0.021962343, -0.034408245, -0.05993954, 0.034...  \n",
       "3  [0.015466951, -0.034977786, -0.03548918, 0.027...  \n",
       "4  [0.0017117915, -0.025918707, -0.0041319, -0.01...  \n",
       "5  [0.021318262, -0.022684429, -0.059795767, 0.01...  \n",
       "6  [0.035828836, -0.016120639, -0.030543817, 0.03...  "
      ]
     },
     "execution_count": 5,
     "metadata": {},
     "output_type": "execute_result"
    }
   ],
   "source": [
    "df[\"Embeddings\"] = df.apply(lambda row: embed_fn(row[\"Title\"], row[\"Content\"]), axis=1)\n",
    "df"
   ]
  },
  {
   "cell_type": "markdown",
   "metadata": {
    "id": "5baCqjr0O0KM"
   },
   "source": [
    "\n",
    "---\n",
    "\n",
    "## Buscas\n",
    "\n",
    "Para simplificar a busca dentro dos documentos, o argumento `query` nas funções abaixo pode ser um trecho específico presente nos arquivos, uma parte do documento ou até mesmo algo relacionado ao tópico que você está procurando.\n",
    "\n",
    "Essas funções foram projetadas para facilitar a localização de documentos relevantes com base em consultas específicas. Basta fornecer um termo ou frase relevante e as funções encontrarão os documentos mais adequados dentro da base de dados.\n",
    "\n",
    "---\n"
   ]
  },
  {
   "cell_type": "code",
   "execution_count": 6,
   "metadata": {
    "id": "LxyfqY8LxxHx"
   },
   "outputs": [],
   "source": [
    "def generate_and_search_query(query, database, model):\n",
    "    \"\"\"\n",
    "    Generates and searches a query within a given database using a specified model.\n",
    "\n",
    "    This function generates an embedding for the provided query using the specified model.\n",
    "    It then compares this embedding with the embeddings of documents in the database\n",
    "    to find the most relevant document.\n",
    "\n",
    "    Args:\n",
    "        query (str): The query to be searched within the database.\n",
    "        database (DataFrame): The DataFrame containing the database of documents.\n",
    "        model (str): The model to be used for generating embeddings.\n",
    "\n",
    "    Returns:\n",
    "        str: The content of the most relevant document to the query.\n",
    "\n",
    "    Example:\n",
    "        >>> query = \"Example query\"\n",
    "        >>> relevant_document = generate_and_search_query(query, df, \"models/embedding-001\")\n",
    "    \"\"\"\n",
    "    embedding_of_query = genai.embed_content(model=model,\n",
    "                                             content=query,\n",
    "                                             task_type=\"RETRIEVAL_QUERY\")[\"embedding\"]\n",
    "\n",
    "    dot_products = np.dot(np.stack(database[\"Embeddings\"]), embedding_of_query)\n",
    "    index = np.argmax(dot_products)\n",
    "\n",
    "    return database.iloc[index][\"Content\"]\n"
   ]
  },
  {
   "cell_type": "code",
   "execution_count": 7,
   "metadata": {
    "id": "X9FmOZ9N61iI"
   },
   "outputs": [],
   "source": [
    "def generate_and_search_top_3_docs(query, database, model, similarity_threshold=0.65):\n",
    "    \"\"\"\n",
    "    Generates and searches a query within a given database using a specified model, returning the top 3 most relevant documents with a similarity score equal to or greater than the specified threshold.\n",
    "\n",
    "    This function generates an embedding for the provided query using the specified model.\n",
    "    It then compares this embedding with the embeddings of documents in the database\n",
    "    to find the top 3 most relevant documents with a similarity score equal to or greater than the specified threshold.\n",
    "\n",
    "    Args:\n",
    "        query (str): The query to be searched within the database.\n",
    "        database (DataFrame): The DataFrame containing the database of documents.\n",
    "        model (str): The model to be used for generating embeddings.\n",
    "        similarity_threshold (float, optional): The minimum similarity score required for a document to be considered relevant. Defaults to 0.65.\n",
    "\n",
    "    Returns:\n",
    "        list: A list of tuples containing the content of the top 3 most relevant documents to the query, along with their similarity scores.\n",
    "\n",
    "    Example:\n",
    "        >>> query = \"Example query\"\n",
    "        >>> top_3_documents = generate_and_search_top_3_docs(query, df, \"models/embedding-001\")\n",
    "    \"\"\"\n",
    "    embedding_of_query = genai.embed_content(model=model,\n",
    "                                             content=query,\n",
    "                                             task_type=\"RETRIEVAL_QUERY\")[\"embedding\"]\n",
    "\n",
    "    embeddings_of_database = np.stack(database[\"Embeddings\"])\n",
    "    similarities = cosine_similarity(embeddings_of_database, np.array(embedding_of_query).reshape(1, -1)).flatten()\n",
    "    relevant_indices = np.where(similarities >= similarity_threshold)[0]\n",
    "    sorted_indices = np.argsort(similarities[relevant_indices])[::-1][:3]\n",
    "\n",
    "    top_relevant_documents = [(database.iloc[relevant_indices[index]][\"Content\"], similarities[relevant_indices[index]]) for index in sorted_indices]\n",
    "\n",
    "    return top_relevant_documents\n"
   ]
  },
  {
   "cell_type": "markdown",
   "metadata": {
    "id": "VRhqaszDPUpf"
   },
   "source": [
    "## Exemplo de Uso das Funções de Busca\n",
    "\n",
    "Aqui está um exemplo simples de como utilizar as funções de busca implementadas para encontrar documentos relevantes com base em consultas específicas. Abaixo, mostramos como realizar uma busca utilizando uma consulta de exemplo e as funções `generate_and_search_query` e `generate_and_search_top_3_docs`.\n"
   ]
  },
  {
   "cell_type": "code",
   "execution_count": 8,
   "metadata": {
    "colab": {
     "base_uri": "https://localhost:8080/",
     "height": 54
    },
    "id": "Aqox6GFg681C",
    "outputId": "245684a7-2a54-4503-e520-1905de740dfc"
   },
   "outputs": [
    {
     "name": "stdout",
     "output_type": "stream",
     "text": [
      "Top 3 Relevant Documents:\n",
      "Document 1:\n",
      "Similarity: 0.7226724109311793\n",
      "Coordenadas: 35° 9' 22\" N 136° 3' 36\" ECapitalTóquio 35°41′N 139°46′ECidade mais populosaTóquioLíngua oficialJaponêsGovernoMonarquia constitucional unitária parlamentarista• ImperadorNaruhito• Primeiro-ministroFumio KishidaLegislaturaDieta Nacional • Câmara altaCâmara dos Conselheiros • Câmara baixaCâmara dos RepresentantesFundação Nacional11 de fevereiro de 660 a.C. • Constituição Meiji29 de novembro de 1890 • Constituição do Japão3 de maio de 1947 • Tratado de S. Francisco28 de abril de 1952 Área   • Total377 975[4] km² (62.º) • Água (%)0,8População   • Estimativa para 2023124 631 000[5] hab. (11.º) • Densidade337 hab./km² (30.º)PIB (base PPC)Estimativa de 2022 • TotalUS$ 6,139 trilhões *[6] (4.º) • Per capitaUS$ 49 044[6] (36.º)PIB (nominal)Estimativa de 2022 • TotalUS$ 4,234 trilhões *[6] (3.º) • Per capitaUS$ 33 822[6] (28.º)IDH (2019)0,919 (19.º) – muito alto[7]Gini (2008)37,6 (2008)[8] MoedaIene (¥ / 円) (JPY)Fuso horário+9Cód. ISOJPNCód. Internet.jpCód. telef.+81Website governamentalwww.kantei.go.jpJapão (em japonês: 日本; romaniz.:Nihon ou Nippon; oficialmente 日本国, Nippon-kokuⓘ ou koku, tradução literal: Estado do Japão) é um país insular da Ásia Oriental. Localizado no Oceano Pacífico, a leste do Mar do Japão, da República Popular da China, da Coreia do Norte, da Coreia do Sul e da Rússia, estendendo-se do Mar de Okhotsk, no norte, ao Mar da China Oriental e Taiwan, ao sul. Os caracteres que compõem seu nome significam \"Origem do Sol\", razão pela qual o Japão é às vezes identificado como a \"Terra do Sol Nascente\".O país é um arquipélago de 6 852 ilhas,[9] cujas quatro maiores são Honshu, Hokkaido, Kyushu e Shikoku, representando em conjunto 97% da área terrestre nacional. A maior parte das ilhas é montanhosa, com muitos vulcões, como, por exemplo, os Alpes japoneses e o Monte Fuji. O Japão possui a décima primeira maior população do mundo, com cerca de 125,4 milhões de habitantes.[10] A Região Metropolitana de Tóquio, que inclui a capital de facto de Tóquio e várias prefeituras adjacentes, é a maior área metropolitana do mundo, com mais de 37,4 milhões de habitantes.[11]Pesquisas arqueológicas indicam que humanos já viviam nas ilhas japonesas no período Paleolítico Superior. A primeira menção escrita do Japão começa com uma breve aparição em textos históricos chineses do século I d.C.. A influência do resto do mundo seguida por longos períodos de isolamento tem caracterizado a história do país. Desde a sua constituição em 1947, o Japão se manteve como uma monarquia constitucional unitária com um imperador e um parlamento eleito, a Dieta.Como grande potência econômica,[12] possui a terceira maior economia do mundo em PIB nominal e a quarta maior em poder de compra. É também o quarto maior exportador e o quarto maior importador do mundo, além de ser o único país asiático membro do G7.[13] O país mantém uma força de segurança moderna e ampla, utilizada para autodefesa e para funções de manutenção da paz.[14] O Japão possui um padrão de vida muito alto (17º maior IDH), com a maior expectativa de vida do mundo (de acordo com estimativas da ONU e da OMS) e a terceira menor taxa de mortalidade infantil.[15][16] O país também faz parte do G20, grupo formado pelas 19 maiores economias do mundo mais a União Europeia.\n",
      "\n",
      "Document 2:\n",
      "Similarity: 0.6980483795666711\n",
      "A culinária japonesa se desenvolveu ao longo dos séculos como um resultado de muitas mudanças políticas e sociais no Japão. A culinária eventualmente passou por um processo de evolução com o advento da Idade Média, que marcou o início da expansão do elitismo com a era do domínio Xogum. No começo da era moderna ocorreram mudanças significativas, resultando na introdução de elementos de culturas não-japonesas, principalmente da cultura ocidental, no Japão.O termo culinária japonesa significa a comida japonesa tradicional, semelhante à existente antes do final do sakoku (política de isolamento do Japão), em 1868. Em um sentido mais amplo, pode incluir alimentos cujos ingredientes ou métodos de preparo foram posteriormente introduzidos do exterior, mas que foram desenvolvidos por japoneses de forma diferente. A cozinha japonesa é conhecida por dar importância à sazonalidade dos alimentos,[1] qualidade dos ingredientes e apresentação. O Guia Michelin concedeu mais estrelas aos restaurantes das cidades japonesas do que para qualquer outro país do mundo (Somente Tóquio tem mais estrelas do que Paris, Hong Kong, Nova Iorque, Los Angeles e Londres juntas).[2][3]Comida do dia-a-diaUm prato de uma refeição Kaiseki completa, mostrando o cuidado na arrumação dos alimentosA culinária tradicional japonesa é dominada pelo arroz branco (hakumai, 白米), e poucas refeições seriam completas sem ele. Qualquer outro prato servido durante uma refeição - peixe, carne, legumes, conservas - é considerado como um acompanhamento, conhecido como okazu. É utilizado um tipo de talher diferente, denominado hashi. Originário da China, consiste em dois pequenos bastões de madeira, plástico ou metal.As refeições tradicionais recebem seu nome de acordo com o número de acompanhamentos que vêm junto do arroz e da sopa. A refeição japonesa mais simples, por exemplo, consiste de ichijū-issai (一汁一菜; \"uma sopa, um acompanhamento\" ou \"refeição de um prato\"). Isto quer dizer que a refeição é composta de sopa, arroz e de algum acompanhamento — normalmente um legume em conserva. O pequeno-almoço ou café da manhã japonês tradicional, por exemplo, normalmente é constituído de missoshiru (sopa de pasta de soja), arroz e algum legume em conserva. A refeição mais comum, entretanto, é conhecida por ichijū-sansai (一汁三菜; \"uma sopa, três acompanhamentos\"), ou por sopa, arroz e três acompanhamentos, cada um empregando uma técnica de culinária diferente. Estes acompanhamentos normalmente são peixe cru (sashimi), um prato frito e um prato fermentado ou cozido no vapor — ainda que pratos fritos, empanados ou agri-doces podem substituir os pratos cozidos. O Ichijū-sansai normalmente se encerra com conservas como o umeboshi e chá verde.Esta visão japonesa de uma refeição é refletida na organização dos livros de culinária japoneses. Os capítulos são sempre ordenados de acordo com os métodos culinários: alimentos fritos, alimentos cozidos e alimentos grelhados, por exemplo, e não de acordo com os ingredientes em particular (ex.: galinha ou carne) como são nos livros ocidentais. Também podem existir capítulos dedicados a sopas, sushi, arroz etc.Como o Japão é uma nação insular, o seu povo consome muitos frutos do mar, além de peixe e outros produtos marinhos (como algas). Carne e galinha são comummente inseridos na culinária do cotidiano.O macarrão, originado na China, também é uma parte essencial da culinária japonesa.[4] Existem dois tipos tradicionais de macarrão, o sobá e udon. Feito de farinha de trigo-sarraceno, o sobá (蕎麦) é um macarrão fino e escuro. O udon (うどん), por sua vez, é feito de trigo branco, sendo mais grosso. Ambos são normalmente servidos com um caldo de peixe aromatizado com soja, junto de vários vegetais. Uma importação mais recente da China, datando do início do século XIX, vem o ramen (ラーメン; macarrão chinês), que se tornou extremamente popular. O Ramen é servido com uma variedade de tipos de sopa, indo desde os molhos de peixe até manteiga ou porco.Em algumas regiões, gafanhotos (inago) e larvas de abelha (hachinoko) não são pratos incomuns. Lagartos também são comidos em alguns lugares.\n",
      "\n"
     ]
    }
   ],
   "source": [
    "query = \"coisas sobre japão\"\n",
    "\n",
    "top_3_documents = generate_and_search_top_3_docs(query, df, model)\n",
    "\n",
    "print(\"Top 3 Relevant Documents:\")\n",
    "for i, (document, similarity) in enumerate(top_3_documents, start=1):\n",
    "    print(f\"Document {i}:\")\n",
    "    print(f\"Similarity: {similarity}\")\n",
    "    print(document)\n",
    "    print()"
   ]
  },
  {
   "cell_type": "markdown",
   "metadata": {
    "id": "il9Ps7MMPXiz"
   },
   "source": [
    "## Integração com Gemini AI\n",
    "\n",
    "Para integrar com o Gemini AI, configure as definições de geração da seguinte forma para que seja retornado apenas uma resposta da API. Exemplos de prompts para português e inglês foram adicionados. Para maior precisão ao documento use \"Não adicione nenhuma informação extra ao seguinte trecho.\". Dessa forma a genai não vai adicionar informações extras ou suposições na resposta. A API do Gemini só aceita um documento sendo enviado por vez como trecho, então selecione qual documento quer usar quando for enviar para a API.\n",
    "\n"
   ]
  },
  {
   "cell_type": "code",
   "execution_count": 9,
   "metadata": {
    "colab": {
     "base_uri": "https://localhost:8080/",
     "height": 34
    },
    "id": "bDHQlEuV4Jay",
    "outputId": "07b8bce0-ae77-49b0-8501-1d6f8af7a5e2"
   },
   "outputs": [
    {
     "name": "stdout",
     "output_type": "stream",
     "text": [
      "A culinária japonesa evoluiu ao longo dos séculos, influenciada por mudanças políticas e sociais. A era moderna trouxe elementos ocidentais, enquanto a culinária tradicional enfatiza a sazonalidade, a qualidade dos ingredientes e a apresentação.\n",
      "\n",
      "As refeições tradicionais giram em torno do arroz branco, acompanhado de okazu (acompanhamentos). Os talheres são hashi (pauzinhos). As refeições são nomeadas pelo número de acompanhamentos, com ichijū-sansai (uma sopa, três acompanhamentos) sendo a mais comum.\n",
      "\n",
      "Os frutos do mar são amplamente consumidos, assim como carne e frango. O macarrão, originário da China, é essencial, com sobá (trigo-sarraceno) e udon (trigo branco) sendo os tipos tradicionais. O ramen, uma importação mais recente, também é popular.\n",
      "\n",
      "Em algumas regiões, insetos como gafanhotos e larvas de abelha são consumidos, assim como lagartos.\n"
     ]
    }
   ],
   "source": [
    "generation_config = {\n",
    "  \"temperature\": 0,\n",
    "  \"candidate_count\": 1\n",
    "}\n",
    "\n",
    "prompt_br = f\"Me faça um resumo do texto. Não adicione nenhuma informação extra ao seguinte trecho. Trecho: {top_3_documents[1]}\"\n",
    "prompt_eng = f\"Ask your question here. Do not add any extra information to the following passage. Passage: {top_3_documents}\"\n",
    "\n",
    "model_2 = genai.GenerativeModel(\"gemini-1.0-pro\",\n",
    "                                generation_config=generation_config)\n",
    "response = model_2.generate_content(prompt_br)\n",
    "print(response.text)"
   ]
  }
 ],
 "metadata": {
  "colab": {
   "provenance": []
  },
  "kernelspec": {
   "display_name": "Python 3 (ipykernel)",
   "language": "python",
   "name": "python3"
  },
  "language_info": {
   "codemirror_mode": {
    "name": "ipython",
    "version": 3
   },
   "file_extension": ".py",
   "mimetype": "text/x-python",
   "name": "python",
   "nbconvert_exporter": "python",
   "pygments_lexer": "ipython3",
   "version": "3.12.3"
  }
 },
 "nbformat": 4,
 "nbformat_minor": 4
}
